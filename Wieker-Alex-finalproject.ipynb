{
 "cells": [
  {
   "cell_type": "markdown",
   "metadata": {},
   "source": [
    "## Chicago Crime is not Alone by Alex Wieker"
   ]
  },
  {
   "cell_type": "markdown",
   "metadata": {},
   "source": [
    "## Introduction\n",
    "In recent years, social media has assigned a narrative to Chicago in which it is the boogeyman of criminal activity (boogeyman narrative), and it is often considered in a playing field of its own when it comes to said criminal activity. However, contrary to this narrative, data suggests that crime has actually been on a downward trend for more than a few years. Hence, in this article I go through two datasets, Crimes - 2001 to present dataset (Chicago dataset) and Crime Data from 2010 to Present (Los Angeles) to measure the veracity of the boogeyman narrative and to determine whether there are outlying factors which might have contributed to its existence. In addition, to demonstrating that Chicago crime is not as severe as the social media would have us believe, I also use the data to argue that Chicago is not alone. That is, there are other metropolitian cities that are equally facing the same issues when it comes to crime as Chicago."
   ]
  },
  {
   "cell_type": "code",
   "execution_count": 1,
   "metadata": {},
   "outputs": [],
   "source": [
    "import pandas as pd\n",
    "import numpy as np\n",
    "import bqplot\n",
    "import ipywidgets\n",
    "import matplotlib\n",
    "import matplotlib.pyplot as plt"
   ]
  },
  {
   "cell_type": "code",
   "execution_count": 2,
   "metadata": {},
   "outputs": [
    {
     "data": {
      "text/html": [
       "<div>\n",
       "<style scoped>\n",
       "    .dataframe tbody tr th:only-of-type {\n",
       "        vertical-align: middle;\n",
       "    }\n",
       "\n",
       "    .dataframe tbody tr th {\n",
       "        vertical-align: top;\n",
       "    }\n",
       "\n",
       "    .dataframe thead th {\n",
       "        text-align: right;\n",
       "    }\n",
       "</style>\n",
       "<table border=\"1\" class=\"dataframe\">\n",
       "  <thead>\n",
       "    <tr style=\"text-align: right;\">\n",
       "      <th></th>\n",
       "      <th>Primary Type</th>\n",
       "      <th>size</th>\n",
       "    </tr>\n",
       "  </thead>\n",
       "  <tbody>\n",
       "    <tr>\n",
       "      <th>0</th>\n",
       "      <td>THEFT</td>\n",
       "      <td>1439000</td>\n",
       "    </tr>\n",
       "    <tr>\n",
       "      <th>1</th>\n",
       "      <td>BATTERY</td>\n",
       "      <td>1247989</td>\n",
       "    </tr>\n",
       "    <tr>\n",
       "      <th>2</th>\n",
       "      <td>CRIMINAL DAMAGE</td>\n",
       "      <td>779869</td>\n",
       "    </tr>\n",
       "    <tr>\n",
       "      <th>3</th>\n",
       "      <td>NARCOTICS</td>\n",
       "      <td>715960</td>\n",
       "    </tr>\n",
       "    <tr>\n",
       "      <th>4</th>\n",
       "      <td>ASSAULT</td>\n",
       "      <td>425066</td>\n",
       "    </tr>\n",
       "  </tbody>\n",
       "</table>\n",
       "</div>"
      ],
      "text/plain": [
       "      Primary Type     size\n",
       "0            THEFT  1439000\n",
       "1          BATTERY  1247989\n",
       "2  CRIMINAL DAMAGE   779869\n",
       "3        NARCOTICS   715960\n",
       "4          ASSAULT   425066"
      ]
     },
     "execution_count": 2,
     "metadata": {},
     "output_type": "execute_result"
    }
   ],
   "source": [
    "# read in aggregate csv file by crime type done by the groupby size method\n",
    "crime_type_size_df = pd.read_csv(\"crime_type_size_df.csv\").drop(columns='Unnamed: 0')\n",
    "crime_type_size_df.head()"
   ]
  },
  {
   "cell_type": "code",
   "execution_count": 3,
   "metadata": {},
   "outputs": [
    {
     "data": {
      "text/html": [
       "<div>\n",
       "<style scoped>\n",
       "    .dataframe tbody tr th:only-of-type {\n",
       "        vertical-align: middle;\n",
       "    }\n",
       "\n",
       "    .dataframe tbody tr th {\n",
       "        vertical-align: top;\n",
       "    }\n",
       "\n",
       "    .dataframe thead th {\n",
       "        text-align: right;\n",
       "    }\n",
       "</style>\n",
       "<table border=\"1\" class=\"dataframe\">\n",
       "  <thead>\n",
       "    <tr style=\"text-align: right;\">\n",
       "      <th></th>\n",
       "      <th>Primary Type</th>\n",
       "      <th>Year</th>\n",
       "      <th>size</th>\n",
       "    </tr>\n",
       "  </thead>\n",
       "  <tbody>\n",
       "    <tr>\n",
       "      <th>0</th>\n",
       "      <td>THEFT</td>\n",
       "      <td>2001</td>\n",
       "      <td>99264</td>\n",
       "    </tr>\n",
       "    <tr>\n",
       "      <th>1</th>\n",
       "      <td>THEFT</td>\n",
       "      <td>2003</td>\n",
       "      <td>98875</td>\n",
       "    </tr>\n",
       "    <tr>\n",
       "      <th>2</th>\n",
       "      <td>THEFT</td>\n",
       "      <td>2002</td>\n",
       "      <td>98327</td>\n",
       "    </tr>\n",
       "    <tr>\n",
       "      <th>3</th>\n",
       "      <td>THEFT</td>\n",
       "      <td>2004</td>\n",
       "      <td>95463</td>\n",
       "    </tr>\n",
       "    <tr>\n",
       "      <th>4</th>\n",
       "      <td>BATTERY</td>\n",
       "      <td>2002</td>\n",
       "      <td>94153</td>\n",
       "    </tr>\n",
       "  </tbody>\n",
       "</table>\n",
       "</div>"
      ],
      "text/plain": [
       "  Primary Type  Year   size\n",
       "0        THEFT  2001  99264\n",
       "1        THEFT  2003  98875\n",
       "2        THEFT  2002  98327\n",
       "3        THEFT  2004  95463\n",
       "4      BATTERY  2002  94153"
      ]
     },
     "execution_count": 3,
     "metadata": {},
     "output_type": "execute_result"
    }
   ],
   "source": [
    "# read in aggregate csv file by crime type and year done by the groupby size method\n",
    "crime_type_year_df = pd.read_csv(\"crime_type_year_df.csv\").drop(columns='Unnamed: 0')\n",
    "crime_type_year_df.head()"
   ]
  },
  {
   "cell_type": "code",
   "execution_count": 4,
   "metadata": {},
   "outputs": [
    {
     "data": {
      "application/vnd.jupyter.widget-view+json": {
       "model_id": "3d2279ba578e4aec87b845eb74de32ee",
       "version_major": 2,
       "version_minor": 0
      },
      "text/plain": [
       "VBox(children=(Label(value=''), HBox(children=(Figure(axes=[Axis(label='Type of Crime', offset={'scale': Ordin…"
      ]
     },
     "metadata": {},
     "output_type": "display_data"
    }
   ],
   "source": [
    "\n",
    "# create plot one x and y values\n",
    "x = crime_type_size_df['Primary Type']\n",
    "y = crime_type_size_df['size']\n",
    "\n",
    "# initiate plot one scales\n",
    "x_sc = bqplot.OrdinalScale()\n",
    "y_sc = bqplot.LinearScale()\n",
    "\n",
    "\n",
    "bar = bqplot.Bars(x=x, y = y/1000, # set y-values to per thousand, so values are more clear.\n",
    "                scales={'x': x_sc, 'y': y_sc}, \n",
    "                interactions={'click':'select'},\n",
    "                selected_style={'fill': 'orange'})\n",
    "\n",
    "ax_x = bqplot.Axis(scale=x_sc, \n",
    "                   tick_style= {'font-size': '10px'}, # set font-size to ten for increased legibility\n",
    "                   tick_rotate = -700,  # rotate x-axis values\n",
    "                   offset={'scale': x_sc, 'value': '50'}, # offset x-axis values\n",
    "                   label= 'Type of Crime')  # set x-axis label\n",
    "\n",
    "ax_y = bqplot.Axis(scale=y_sc,\n",
    "                   orientation='vertical', \n",
    "                   label='Total Crimes Reported per Thousand Crimes', # set y-axis label\n",
    "                   label_offset='-50') # y-axis label offset\n",
    "\n",
    "# initiate a label above the plot\n",
    "mySelectedLabel = ipywidgets.Label()\n",
    "\n",
    "# initiate plot year label range\n",
    "year_range = bqplot.Label(x=[0.75],y=[0.10], font_size=52, font_weight='bolder', \n",
    "                         colors=['blue'], \n",
    "                          text=[('Year Range: 2001 to 2019')], \n",
    "                          x_offset = -125,\n",
    "                          y_offset = -300)\n",
    "\n",
    "fig = bqplot.Figure(marks=[bar, year_range], axes=[ax_x, ax_y], padding_x=0.025, padding_y=0.025,\n",
    "                    title=\"Ten Most Common Reported Chicagoan Crimes\")\n",
    "\n",
    "# initiate plot two scales\n",
    "x_sc2 = bqplot.LinearScale()\n",
    "y_sc2 = bqplot.LinearScale()\n",
    "\n",
    "\n",
    "x_ax2 = bqplot.Axis(scale=x_sc2, label='Year', # set x-axis label\n",
    "                    tick_values=crime_type_year_df['Year'], # set tick values\n",
    "                    offset={'scale': x_sc, 'value': '200'}, # offset x-values (scale has to be x_sc to work)\n",
    "                    tick_rotate = 400) # rotate x-values\n",
    " \n",
    "y_ax2 = bqplot.Axis(scale=y_sc2, \n",
    "                    label='Total Crimes Reported', # set label\n",
    "                    orientation = 'vertical', \n",
    "                    label_offset='-50')  # set label off set\n",
    "\n",
    "# initiate the start plot two subset--the get_tot_crimes_types function will change subset by clicking\n",
    "mask = 'THEFT'\n",
    "\n",
    "# create a mask that updates plot two based upon selection. The default mask value is theft as the starting point. \n",
    "# Instructor Naiman helped me set up the mask. \n",
    "x_mask = crime_type_year_df['Year']\n",
    "x_mask = x_mask[crime_type_year_df['Primary Type'] == mask]\n",
    "\n",
    "# create a mask similar to x_mask except for the y values\n",
    "y_mask = crime_type_year_df['size']\n",
    "y_mask = y_mask[crime_type_year_df['Primary Type'] == mask]\n",
    "\n",
    "line_plot = bqplot.marks.Lines(x=sorted(x_mask), y = y_mask,marker='circle', stroke_width=1, scales={'x':x_sc2,'y':y_sc2})\n",
    "\n",
    "fig2 = bqplot.Figure(marks=[line_plot], axes=[x_ax2,y_ax2], \n",
    "                     title=\"Total Crimes by Crime Type and Year\")\n",
    "\n",
    "# create change function that subsets first plot by click\n",
    "def get_tot_crime_types(change):\n",
    "    mask = x[change['owner'].selected[0]]\n",
    "\n",
    "    x_mask = crime_type_year_df['Year']\n",
    "    x_mask = sorted(x_mask[crime_type_year_df['Primary Type'] == mask])\n",
    "\n",
    "    y_mask = crime_type_year_df['size']\n",
    "    y_mask = y_mask[crime_type_year_df['Primary Type'] == mask]\n",
    "    \n",
    "    crime_string = str(mask)\n",
    "    \n",
    "    # make label lowercase\n",
    "    crime_string = crime_string.lower()\n",
    "    \n",
    "    # capitalize first letter \n",
    "    crime_string = crime_string.capitalize()\n",
    "\n",
    "    mySelectedLabel.value =  crime_string + ' ' +  'crimes reported:' \\\n",
    "    + ' '+ str(sum(y_mask))\n",
    "                                            \n",
    "    line_plot.x = x_mask\n",
    "    line_plot.y = y_mask\n",
    "\n",
    "bar.observe(get_tot_crime_types, 'selected')\n",
    "\n",
    "ipywidgets.VBox([mySelectedLabel,ipywidgets.HBox([fig, fig2])])"
   ]
  },
  {
   "cell_type": "markdown",
   "metadata": {},
   "source": [
    "## Part 1\n",
    "Terminology:\n",
    "\n",
    "Deceptive Practice: This crime has a very wide field of coverage, but a simple definition is that this crime is commited when one attempts to defraud another person. \n",
    "\n",
    "This first visualization is an interactive dashboard. If you click on a crime type bar, output will display how many reported incidents of that type have occurred from 2001 to 2019 in Chicago, and on the right hand side the line plot will also update where it will output how many reported incidents there were for that crime per year. By looking at the ten most reported common crime types in Chicago, it is plain to see that crime has been dropping since about 2010 for all of the crime types and as soon as the early 2000's for some. Additionally, if you look at the types of crimes in the top ten most common crimes, only a few of them are violent crimes, battery and assault, and a great many of them qualify as misdemeanors. Lastly, the crimes that are often discussed the most in the media, such as homicide, do not even make this list, which is actually the 21th most common crime in Chicago. Hence, the boogeyman narrative should be questioned not only because crime has been trending downward for a few years but also because violent crimes are not nearly as plentiful as the narrative suggests."
   ]
  },
  {
   "cell_type": "code",
   "execution_count": 5,
   "metadata": {},
   "outputs": [
    {
     "data": {
      "text/html": [
       "<div>\n",
       "<style scoped>\n",
       "    .dataframe tbody tr th:only-of-type {\n",
       "        vertical-align: middle;\n",
       "    }\n",
       "\n",
       "    .dataframe tbody tr th {\n",
       "        vertical-align: top;\n",
       "    }\n",
       "\n",
       "    .dataframe thead th {\n",
       "        text-align: right;\n",
       "    }\n",
       "</style>\n",
       "<table border=\"1\" class=\"dataframe\">\n",
       "  <thead>\n",
       "    <tr style=\"text-align: right;\">\n",
       "      <th></th>\n",
       "      <th>Primary Type</th>\n",
       "      <th>Arrest Made %</th>\n",
       "    </tr>\n",
       "  </thead>\n",
       "  <tbody>\n",
       "    <tr>\n",
       "      <th>0</th>\n",
       "      <td>PROSTITUTION</td>\n",
       "      <td>0.996105</td>\n",
       "    </tr>\n",
       "    <tr>\n",
       "      <th>1</th>\n",
       "      <td>NARCOTICS</td>\n",
       "      <td>0.994111</td>\n",
       "    </tr>\n",
       "    <tr>\n",
       "      <th>2</th>\n",
       "      <td>PUBLIC INDECENCY</td>\n",
       "      <td>0.993902</td>\n",
       "    </tr>\n",
       "    <tr>\n",
       "      <th>3</th>\n",
       "      <td>GAMBLING</td>\n",
       "      <td>0.992795</td>\n",
       "    </tr>\n",
       "    <tr>\n",
       "      <th>4</th>\n",
       "      <td>LIQUOR LAW VIO</td>\n",
       "      <td>0.991148</td>\n",
       "    </tr>\n",
       "  </tbody>\n",
       "</table>\n",
       "</div>"
      ],
      "text/plain": [
       "       Primary Type  Arrest Made %\n",
       "0      PROSTITUTION       0.996105\n",
       "1         NARCOTICS       0.994111\n",
       "2  PUBLIC INDECENCY       0.993902\n",
       "3          GAMBLING       0.992795\n",
       "4    LIQUOR LAW VIO       0.991148"
      ]
     },
     "execution_count": 5,
     "metadata": {},
     "output_type": "execute_result"
    }
   ],
   "source": [
    "# read in aggregate crime type arrest % csv file \n",
    "arrest_perc_df = pd.read_csv(\"arrest_perc_df.csv\").drop(columns='Unnamed: 0')\n",
    "arrest_perc_df.head()"
   ]
  },
  {
   "cell_type": "code",
   "execution_count": 6,
   "metadata": {},
   "outputs": [
    {
     "data": {
      "application/vnd.jupyter.widget-view+json": {
       "model_id": "ece2fff90bd04fcfa946a975310c4c01",
       "version_major": 2,
       "version_minor": 0
      },
      "text/plain": [
       "VBox(children=(Label(value=''), HBox(children=(Figure(axes=[Axis(label='Type of Crime', offset={'scale': Ordin…"
      ]
     },
     "metadata": {},
     "output_type": "display_data"
    }
   ],
   "source": [
    "x2 = arrest_perc_df['Primary Type']\n",
    "y2 = arrest_perc_df['Arrest Made %']\n",
    "\n",
    "x_sc3 = bqplot.OrdinalScale()\n",
    "y_sc3 = bqplot.LinearScale()\n",
    "\n",
    "\n",
    "bar2 = bqplot.Bars(x=x2, y = y2, # set y-values to per thousand, so values are more clear.\n",
    "                scales={'x': x_sc3, 'y': y_sc3}, \n",
    "                interactions={'click':'select'},\n",
    "                selected_style={'fill': 'orange'})\n",
    "\n",
    "ax_x3 = bqplot.Axis(scale=x_sc3, \n",
    "                   tick_style= {'font-size': '8px'}, # set font-size to seven for increased legibility\n",
    "                   tick_rotate = -700,  # rotate x-axis values\n",
    "                   offset={'scale': x_sc3, 'value': '50'}, # offset x-axis values\n",
    "                   label= 'Type of Crime')  # set x-axis label\n",
    "\n",
    "ax_y3 = bqplot.Axis(scale=y_sc3,\n",
    "                   orientation='vertical', \n",
    "                   label='Arrest Percentage', # set y-axis label\n",
    "                   label_offset='-50') # y-axis label offset\n",
    "\n",
    "# initiate a label above the plot\n",
    "mySelectedLabel2 = ipywidgets.Label()\n",
    "\n",
    "# initiate plot year label range\n",
    "year_range2 = bqplot.Label(x=[0.75],y=[0.10], font_size=52, font_weight='bolder', \n",
    "                         colors=['blue'], \n",
    "                          text=[('Year Range: 2001 to 2019')], \n",
    "                          x_offset = -125,\n",
    "                          y_offset = -300)\n",
    "    \n",
    "fig3 = bqplot.Figure(marks=[bar2, year_range2], axes=[ax_x3, ax_y3],\n",
    "                    title=\"Chicagoan Reported Crimes by Arrest Percentage\")\n",
    "def get_crime_arrest_perc(change2):\n",
    "    x_values = x2[change2['owner'].selected[0]]\n",
    "    \n",
    "    y_values = y2[change2['owner'].selected[0]]\n",
    "    y_values = y_values.round(3)\n",
    "    y_values = str(y_values * 100)\n",
    "  \n",
    "    mySelectedLabel2.value =  str(x_values.lower().capitalize()) + ' ' + \\\n",
    "    'reported crimes arrest percentage: ' + y_values + '%'\n",
    "                            \n",
    "fig3.layout.width = '900px'\n",
    "\n",
    "bar2.observe(get_crime_arrest_perc, 'selected')\n",
    "ipywidgets.VBox([mySelectedLabel2,ipywidgets.HBox([fig3])])"
   ]
  },
  {
   "cell_type": "markdown",
   "metadata": {},
   "source": [
    "## Part 2\n",
    "Terminology:\n",
    "\n",
    "Deceptive Practice: This crime has a very wide field of coverage, but a simple definition is that this crime is commited when one attempts to defraud another person.\n",
    "\n",
    "Also, take note that VIO stands in place of violation.\n",
    "\n",
    "While the above dashboard demonstrated that reported Chicago crime has been trending downward for quite a few years now, this visualization might glean why Chicago has a bad reputation for its violent crime and crime frequency. In this visualization, you can click on any of the bars, and it will output the crime type and the arrest percentage for that given subset of reported crimes. Additionally, some crimes have nearly a 100% arrest ratio, such as prostitution, whereas other crimes, such as burglary, have about 10% arrest percentage. By examining what kind of crimes make up these opposing spectrums, it is interesting to note that four of the worst arrest rate crime types come from the top ten most common crimes, and one might chalk that up to crime frequency. However, narcotics, which is the fourth most common Chicagoan crime, is the crime with the second best arrest percentage, so it is unlikely that there is a correlation bretween crime type frequency and arrest percentage. Furthermore, many of the crimes that have the worst arrest percentages are misdemeanors, which is logical because they won't be as high of priorities as other crimes. Lastly, back to the topic on hand, which is to explain why this boogeyman narrative is being pushed by the media. Very noticibly the middling arrest percentage crimes are the omnipresent crimes in this narrative. Despite the downward trend in total crime in recent years and even though violent crimes do not make up a large percentage of Chicago crime, since these middling arrest percentage crimes are violent crimes and often go unpunished, they are contributing to this misleading Chicagoan boogeyman narrative."
   ]
  },
  {
   "cell_type": "code",
   "execution_count": 7,
   "metadata": {},
   "outputs": [
    {
     "data": {
      "text/plain": [
       "0\n",
       "2010    208787\n",
       "2011    200407\n",
       "2012    201124\n",
       "2013    192163\n",
       "2014    194956\n",
       "Name: 1, dtype: int64"
      ]
     },
     "execution_count": 7,
     "metadata": {},
     "output_type": "execute_result"
    }
   ],
   "source": [
    "\"\"\"I had trouble reading in the series from a csv, and I used code from the following web page:\n",
    "https://stackoverflow.com/questions/42597368/when-i-read-in-a-pandas-series-from-csv-it-is-turning-it-into-a-dataframe\n",
    "\"\"\"\n",
    "\n",
    "# read in aggregate csv file by year done by the groupby size method \n",
    "la_crime_type_size_df = pd.read_csv(\"la_crime_type_size_df.csv\", header=None, squeeze=True, index_col=0)  \n",
    "la_crime_type_size_df.head()\n"
   ]
  },
  {
   "cell_type": "code",
   "execution_count": 8,
   "metadata": {},
   "outputs": [
    {
     "data": {
      "text/plain": [
       "0\n",
       "2010    370313\n",
       "2011    351777\n",
       "2012    335970\n",
       "2013    307100\n",
       "2014    275289\n",
       "Name: 1, dtype: int64"
      ]
     },
     "execution_count": 8,
     "metadata": {},
     "output_type": "execute_result"
    }
   ],
   "source": [
    "\"\"\"I had trouble reading in the series from a csv, and I used code from the following web page: \n",
    "https://stackoverflow.com/questions/42597368/when-i-read-in-a-pandas-series-from-csv-it-is-turning-it-into-a-dataframe\n",
    "\"\"\"\n",
    "# read in aggregate csv file by year done by the groupby size method \n",
    "crimes_2010_2018_df = pd.read_csv(\"crimes_2010_2018_df.csv\", header=None, squeeze=True, index_col=0)  \n",
    "\n",
    "crimes_2010_2018_df.head()"
   ]
  },
  {
   "cell_type": "code",
   "execution_count": 9,
   "metadata": {},
   "outputs": [
    {
     "data": {
      "image/png": "[encoded data removed]",
      "text/plain": [
       "<Figure size 432x288 with 1 Axes>"
      ]
     },
     "metadata": {},
     "output_type": "display_data"
    }
   ],
   "source": [
    "with plt.style.context(\"ggplot\"):\n",
    "    plt.plot(crimes_2010_2018_df, marker='.', linewidth = 1.0, label=\"Chicago\")\n",
    "    plt.plot(la_crime_type_size_df, marker='.', linewidth = 1.0, label=\"Los Angeles\")\n",
    "    \n",
    "    plt.fill_between(la_crime_type_size_df.index, crimes_2010_2018_df, la_crime_type_size_df, color = \"#aaaaaa\")\n",
    "\n",
    "    plt.title(\"Chicago vs. Los Angeles Reported Crimes by Year\", fontsize=12)\n",
    "    \n",
    "    x_index = np.arange(2010, 2019)\n",
    "    y_index = np.arange(175000, 400000, 50000)\n",
    "    plt.xticks(x_index)\n",
    "    plt.yticks(y_index)\n",
    "    plt.xlabel(\"Year\")\n",
    "    plt.ylabel(\"Total Reported Crimes\")\n",
    "    \n",
    "    plt.legend()\n"
   ]
  },
  {
   "cell_type": "markdown",
   "metadata": {},
   "source": [
    "## Conclusion\n",
    "Thus far I have demonstrated that Chicago crime has been trending downward in recent years and it is the poor arrest percent violent crimes that give Chicago a bad reputation as a violent city, which I have used to argue that this boogeyman narrative is misleading. In drawing a comparison of total chicago crime by year to another large metropolitian city, such as Los Angeles, I can clearly demonstrate that overall Chicago crime has been trending downward, which was hinted at in the dashboard visualization. Within an eight year time span there has been a decrease of about 100,000 crimes per year. However, I should point out that Chicago crime declination has  stagnated since 2015, even though the top ten most common crimes continue to decline in frequency. Nevertheless, criminal activity in Chicago is not nearly as severe as the boogeyman narrative suggests. Furthermore, the inclusion of Los Angeles in the last visualization, which is city of slightly larger magnitude in population, demonstrates that Chicago is not the only large metropolitan city in the United States faced with significant levels of crime. In contrast to the boogeyman narrative, one could argue that Los Angeles is faced with a worse criminal activity situation because it is trending upwards since 2014 whereas Chicago has declined in recent years. The intention of these visualizations is not to say that Chicagoan crime is not a serious issue, it is. However, these visualizations illustrate that the Chicago boogeyman narrative is misleading not only because Chicago crime has been trending downwards for years but also because it is not the only city that is troubled by criminal activity."
   ]
  },
  {
   "cell_type": "markdown",
   "metadata": {},
   "source": [
    "## Future Work\n",
    "While I have demonstrated that Chicagoan crime is neither as plentiful as would be believed nor is it the only metropolitian city in the United States that faces challenges when it comes to crime, I do believe that there is an element of this data that deserves more attention. There is one contradiction between my first and third visualization's because my first visualization demonstrates that the top ten most common Chicagoan crimes are continuing to have a downward trend in frequency whereas my latest visualization suggests that the crime downward trend has stagnated. Hence, I believe it would be worthwhile to explore why this is happening. One way of going about this would be to determine what crimes in Chicago if any have been growing since 2015, which might give some insight into how the continaul decline of the ten most common Chicagoan crimes types have been equalized by the rest of the crime types since 2015."
   ]
  },
  {
   "cell_type": "markdown",
   "metadata": {},
   "source": [
    "## Bibliography\n",
    "\n",
    "Police. Crimes - 2001 to present. April 17, 2001. Distributed by Chicago Data Portal. https://data.cityofchicago.org/Public-Safety/Crimes-2001-to-present/ijzp-q8t2. \n",
    "\n",
    "LAPD. Crime Data from 2010 to Present. April 10, 2017. Distributed by Los Angeles Open Data. https://data.lacity.org/A-Safe-City/Crime-Data-from-2010-to-Present/y8tr-7khq. \n",
    "\n",
    "\n"
   ]
  }
 ],
 "metadata": {
  "kernelspec": {
   "display_name": "Python 3",
   "language": "python",
   "name": "python3"
  },
  "language_info": {
   "codemirror_mode": {
    "name": "ipython",
    "version": 3
   },
   "file_extension": ".py",
   "mimetype": "text/x-python",
   "name": "python",
   "nbconvert_exporter": "python",
   "pygments_lexer": "ipython3",
   "version": "3.7.2"
  }
 },
 "nbformat": 4,
 "nbformat_minor": 2
}
